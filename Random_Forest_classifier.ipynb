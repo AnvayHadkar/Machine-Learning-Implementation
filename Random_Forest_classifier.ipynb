{
 "cells": [
  {
   "cell_type": "code",
   "execution_count": 9,
   "id": "38629f4f",
   "metadata": {},
   "outputs": [],
   "source": [
    "import pandas as pd\n",
    "from sklearn.model_selection import train_test_split\n",
    "from sklearn.ensemble import RandomForestClassifier\n",
    "from sklearn.metrics import accuracy_score, precision_score,recall_score, f1_score, roc_auc_score, roc_curve\n",
    "import matplotlib.pyplot as plt\n",
    "\n"
   ]
  },
  {
   "cell_type": "code",
   "execution_count": 10,
   "id": "83c2e2b0",
   "metadata": {},
   "outputs": [],
   "source": [
    "# Define column names based on the dataset description (including mean, SE, and worst for each feature)\n",
    "feature_names = ['radius', 'texture', 'perimeter', 'area','smoothness', 'compactness', 'concavity','concave_points', 'symmetry', 'fractal_dimension']"
   ]
  },
  {
   "cell_type": "code",
   "execution_count": 11,
   "id": "a2a99bb7",
   "metadata": {},
   "outputs": [],
   "source": [
    "# Creating column names for mean, se, and worst measurements\n",
    "column_names = ['id', 'diagnosis'] + [f\"{f}_{m}\" for f in\n",
    "feature_names for m in ['mean', 'se', 'worst']]"
   ]
  },
  {
   "cell_type": "code",
   "execution_count": 12,
   "id": "eac5e061",
   "metadata": {},
   "outputs": [],
   "source": [
    "# Load the dataset\n",
    "data = pd.read_csv('wdbc.data', header=None, names=column_names)\n",
    "# Convert the diagnosis column to binary labels (Malignant: 1, Benign: 0)\n",
    "data['diagnosis'] = data['diagnosis'].map({'M': 1, 'B': 0})"
   ]
  },
  {
   "cell_type": "code",
   "execution_count": 13,
   "id": "8e2904d9",
   "metadata": {},
   "outputs": [],
   "source": [
    "\n",
    "# Drop the 'id' column as it is not required for the analysis\n",
    "data.drop('id', axis=1, inplace=True)\n",
    "# Split the data into features and target variable\n",
    "X = data.drop('diagnosis', axis=1)\n",
    "y = data['diagnosis']\n",
    "# Split the dataset into training and testing sets\n",
    "X_train, X_test, y_train, y_test = train_test_split(X, y,\n",
    "test_size=0.2, random_state=42)\n",
    "# Create and train the RandomForestClassifier\n",
    "classifier = RandomForestClassifier(n_estimators=100, random_state=42)\n",
    "classifier.fit(X_train, y_train)\n",
    "# Predictions\n",
    "predictions = classifier.predict(X_test)\n",
    "probabilities = classifier.predict_proba(X_test)[:, 1]"
   ]
  },
  {
   "cell_type": "code",
   "execution_count": 14,
   "id": "26c17a99",
   "metadata": {},
   "outputs": [
    {
     "name": "stdout",
     "output_type": "stream",
     "text": [
      "Accuracy: 0.9649122807017544\n",
      "Precision: 0.975609756097561\n",
      "Recall:0.9302325581395349\n",
      "F1 Score: 0.9523809523809523\n",
      "AUC: 0.9952505732066819\n"
     ]
    },
    {
     "data": {
      "image/png": "[encoded data removed]",
      "text/plain": [
       "<Figure size 640x480 with 1 Axes>"
      ]
     },
     "metadata": {},
     "output_type": "display_data"
    }
   ],
   "source": [
    "\n",
    "# Evaluation Metrics\n",
    "accuracy = accuracy_score(y_test, predictions)\n",
    "precision = precision_score(y_test, predictions)\n",
    "recall = recall_score(y_test, predictions)\n",
    "f1 = f1_score(y_test, predictions)\n",
    "auc_score = roc_auc_score(y_test, probabilities)\n",
    "# Printing evaluation metrics\n",
    "print(f\"Accuracy: {accuracy}\\nPrecision: {precision}\\nRecall:{recall}\\nF1 Score: {f1}\\nAUC: {auc_score}\")\n",
    "# ROC Curve\n",
    "fpr, tpr, _ = roc_curve(y_test, probabilities)\n",
    "plt.figure()\n",
    "plt.plot(fpr, tpr, label='AUC = {:.2f}'.format(auc_score))\n",
    "plt.plot([0, 1], [0, 1], 'r--')\n",
    "plt.title('ROC Curve')\n",
    "plt.xlabel('False Positive Rate')\n",
    "plt.ylabel('True Positive Rate')\n",
    "plt.legend()\n",
    "plt.show()"
   ]
  },
  {
   "cell_type": "code",
   "execution_count": null,
   "id": "8afb5389",
   "metadata": {},
   "outputs": [],
   "source": [
    "import pandas as pd\n",
    "from sklearn.model_selection import train_test_split\n",
    "from sklearn.ensemble import RandomForestClassifier\n",
    "from sklearn.metrics import accuracy_score, precision_score,recall_score, f1_score, roc_auc_score, roc_curve\n",
    "import matplotlib.pyplot as plt\n",
    "# Define column names based on the dataset description (including mean, SE, and worst for each feature)\n",
    "feature_names = ['radius', 'texture', 'perimeter', 'area','smoothness', 'compactness', 'concavity','concave_points', 'symmetry', 'fractal_dimension']\n",
    "# Creating column names for mean, se, and worst measurements\n",
    "column_names = ['id', 'diagnosis'] + [f\"{f}_{m}\" for f in\n",
    "feature_names for m in ['mean', 'se', 'worst']]\n",
    "# Load the dataset\n",
    "data = pd.read_csv('wdbc.data', header=None, names=column_names)\n",
    "# Convert the diagnosis column to binary labels (Malignant: 1, Benign: 0)\n",
    "data['diagnosis'] = data['diagnosis'].map({'M': 1, 'B': 0})\n",
    "\n",
    "\n",
    "# Drop the 'id' column as it is not required for the analysis\n",
    "data.drop('id', axis=1, inplace=True)\n",
    "# Split the data into features and target variable\n",
    "X = data.drop('diagnosis', axis=1)\n",
    "y = data['diagnosis']\n",
    "# Split the dataset into training and testing sets\n",
    "X_train, X_test, y_train, y_test = train_test_split(X, y,\n",
    "test_size=0.2, random_state=42)\n",
    "# Create and train the RandomForestClassifier\n",
    "classifier = RandomForestClassifier(n_estimators=100, random_state=42)\n",
    "classifier.fit(X_train, y_train)\n",
    "# Predictions\n",
    "predictions = classifier.predict(X_test)\n",
    "probabilities = classifier.predict_proba(X_test)[:, 1]\n",
    "\n",
    "\n",
    "# Evaluation Metrics\n",
    "accuracy = accuracy_score(y_test, predictions)\n",
    "precision = precision_score(y_test, predictions)\n",
    "recall = recall_score(y_test, predictions)\n",
    "f1 = f1_score(y_test, predictions)\n",
    "auc_score = roc_auc_score(y_test, probabilities)\n",
    "# Printing evaluation metrics\n",
    "print(f\"Accuracy: {accuracy}\\nPrecision: {precision}\\nRecall:{recall}\\nF1 Score: {f1}\\nAUC: {auc_score}\")\n",
    "# ROC Curve\n",
    "fpr, tpr, _ = roc_curve(y_test, probabilities)\n",
    "plt.figure()\n",
    "plt.plot(fpr, tpr, label='AUC = {:.2f}'.format(auc_score))\n",
    "plt.plot([0, 1], [0, 1], 'r--')\n",
    "plt.title('ROC Curve')\n",
    "plt.xlabel('False Positive Rate')\n",
    "plt.ylabel('True Positive Rate')\n",
    "plt.legend()\n",
    "plt.show()"
   ]
  }
 ],
 "metadata": {
  "kernelspec": {
   "display_name": "Python 3",
   "language": "python",
   "name": "python3"
  },
  "language_info": {
   "codemirror_mode": {
    "name": "ipython",
    "version": 3
   },
   "file_extension": ".py",
   "mimetype": "text/x-python",
   "name": "python",
   "nbconvert_exporter": "python",
   "pygments_lexer": "ipython3",
   "version": "3.12.0"
  }
 },
 "nbformat": 4,
 "nbformat_minor": 5
}
